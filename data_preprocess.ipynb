{
 "metadata": {
  "language_info": {
   "codemirror_mode": {
    "name": "ipython",
    "version": 3
   },
   "file_extension": ".py",
   "mimetype": "text/x-python",
   "name": "python",
   "nbconvert_exporter": "python",
   "pygments_lexer": "ipython3",
   "version": "3.8.3-final"
  },
  "orig_nbformat": 2,
  "kernelspec": {
   "name": "python3",
   "display_name": "Python 3.8.3 64-bit ('base': conda)",
   "metadata": {
    "interpreter": {
     "hash": "0c59c803a4d987ec103feefcd44ef2c5439e6cfb46ddbb2c1306945f8db2819b"
    }
   }
  }
 },
 "nbformat": 4,
 "nbformat_minor": 2,
 "cells": [
  {
   "cell_type": "code",
   "execution_count": 1,
   "metadata": {},
   "outputs": [],
   "source": [
    "from IPython.display import Audio, display\n",
    "import os\n",
    "import urllib.request\n",
    "import numpy as np\n",
    "import scipy.stats\n",
    "import seaborn as sns\n",
    "import pandas as pd\n",
    "import scikit_posthocs as sp\n",
    "import matplotlib.pyplot as plt\n",
    "from matplotlib import gridspec\n",
    "from matplotlib.transforms import BlendedGenericTransform\n",
    "import scikit_posthocs as sp\n",
    "from urllib.request import urlopen\n",
    "import warnings\n",
    "import IPython.display as ipd  # To play sound in the notebook\n",
    "\n",
    "import stempeg\n",
    "warnings.simplefilter(action='ignore', category=FutureWarning)"
   ]
  },
  {
   "cell_type": "code",
   "execution_count": 26,
   "metadata": {},
   "outputs": [],
   "source": [
    "def load_data(path):\n",
    "    for folder in os.listdir(path):\n",
    "        a = folder.split('_')\n",
    "        gun_name = a[0]\n",
    "        recording_method = a[1]\n",
    "        print(gun_name,recording_method)\n",
    "        for file in os.listdir(f'{path}/{folder}'):\n",
    "            print(file)\n",
    "            if file[0] != \".\":\n",
    "                file_path = f'{path}/{folder}/{file}'\n",
    "                print(file_path)\n",
    "                S, rate = stempeg.read_stems(file_path)\n",
    "          "
   ]
  },
  {
   "cell_type": "code",
   "execution_count": 21,
   "metadata": {},
   "outputs": [
    {
     "output_type": "stream",
     "name": "stdout",
     "text": [
      "Sampling (frame) rate =  44100\nTotal samples (frames) =  (88514,)\n[-167 -156 -162 ...   80   35   19]\n"
     ]
    }
   ],
   "source": [
    "fname = 'data/M16_Iphone/IP_017A_S01.wav'\n",
    "from scipy.io import wavfile\n",
    "rate, data = wavfile.read(fname)\n",
    "print(\"Sampling (frame) rate = \", rate)\n",
    "print(\"Total samples (frames) = \", data.shape)\n",
    "print(data)"
   ]
  },
  {
   "cell_type": "code",
   "execution_count": 27,
   "metadata": {},
   "outputs": [
    {
     "output_type": "stream",
     "name": "stdout",
     "text": [
      "M16 Samsung\n._SA_097A_S03.wav\nSA_217A_S05.wav\ndata/M16_Samsung/SA_217A_S05.wav\n"
     ]
    },
    {
     "output_type": "error",
     "ename": "AttributeError",
     "evalue": "module 'ffmpeg' has no attribute '_run'",
     "traceback": [
      "\u001b[0;31m---------------------------------------------------------------------------\u001b[0m",
      "\u001b[0;31mAttributeError\u001b[0m                            Traceback (most recent call last)",
      "\u001b[0;32m~/opt/miniconda3/lib/python3.8/site-packages/stempeg/read.py\u001b[0m in \u001b[0;36mread_stems\u001b[0;34m(filename, start, duration, stem_id, always_3d, dtype, ffmpeg_format, info, sample_rate, reader, multiprocess)\u001b[0m\n\u001b[1;32m    215\u001b[0m         \u001b[0;32mif\u001b[0m \u001b[0minfo\u001b[0m \u001b[0;32mis\u001b[0m \u001b[0;32mNone\u001b[0m\u001b[0;34m:\u001b[0m\u001b[0;34m\u001b[0m\u001b[0;34m\u001b[0m\u001b[0m\n\u001b[0;32m--> 216\u001b[0;31m             \u001b[0mmetadata\u001b[0m \u001b[0;34m=\u001b[0m \u001b[0mInfo\u001b[0m\u001b[0;34m(\u001b[0m\u001b[0mfilename\u001b[0m\u001b[0;34m)\u001b[0m\u001b[0;34m\u001b[0m\u001b[0;34m\u001b[0m\u001b[0m\n\u001b[0m\u001b[1;32m    217\u001b[0m         \u001b[0;32melse\u001b[0m\u001b[0;34m:\u001b[0m\u001b[0;34m\u001b[0m\u001b[0;34m\u001b[0m\u001b[0m\n",
      "\u001b[0;32m~/opt/miniconda3/lib/python3.8/site-packages/stempeg/read.py\u001b[0m in \u001b[0;36m__init__\u001b[0;34m(self, filename)\u001b[0m\n\u001b[1;32m    327\u001b[0m         \u001b[0msuper\u001b[0m\u001b[0;34m(\u001b[0m\u001b[0mInfo\u001b[0m\u001b[0;34m,\u001b[0m \u001b[0mself\u001b[0m\u001b[0;34m)\u001b[0m\u001b[0;34m.\u001b[0m\u001b[0m__init__\u001b[0m\u001b[0;34m(\u001b[0m\u001b[0;34m)\u001b[0m\u001b[0;34m\u001b[0m\u001b[0;34m\u001b[0m\u001b[0m\n\u001b[0;32m--> 328\u001b[0;31m         \u001b[0mself\u001b[0m\u001b[0;34m.\u001b[0m\u001b[0minfo\u001b[0m \u001b[0;34m=\u001b[0m \u001b[0mffmpeg\u001b[0m\u001b[0;34m.\u001b[0m\u001b[0mprobe\u001b[0m\u001b[0;34m(\u001b[0m\u001b[0mfilename\u001b[0m\u001b[0;34m)\u001b[0m\u001b[0;34m\u001b[0m\u001b[0;34m\u001b[0m\u001b[0m\n\u001b[0m\u001b[1;32m    329\u001b[0m         self.audio_streams = [\n",
      "\u001b[0;31mAttributeError\u001b[0m: module 'ffmpeg' has no attribute 'probe'",
      "\nDuring handling of the above exception, another exception occurred:\n",
      "\u001b[0;31mAttributeError\u001b[0m                            Traceback (most recent call last)",
      "\u001b[0;32m<ipython-input-27-5a729ddbbae6>\u001b[0m in \u001b[0;36m<module>\u001b[0;34m\u001b[0m\n\u001b[0;32m----> 1\u001b[0;31m \u001b[0mload_data\u001b[0m\u001b[0;34m(\u001b[0m\u001b[0;34m'data'\u001b[0m\u001b[0;34m)\u001b[0m\u001b[0;34m\u001b[0m\u001b[0;34m\u001b[0m\u001b[0m\n\u001b[0m",
      "\u001b[0;32m<ipython-input-26-1a6cf21d3de4>\u001b[0m in \u001b[0;36mload_data\u001b[0;34m(path)\u001b[0m\n\u001b[1;32m     10\u001b[0m                 \u001b[0mfile_path\u001b[0m \u001b[0;34m=\u001b[0m \u001b[0;34mf'{path}/{folder}/{file}'\u001b[0m\u001b[0;34m\u001b[0m\u001b[0;34m\u001b[0m\u001b[0m\n\u001b[1;32m     11\u001b[0m                 \u001b[0mprint\u001b[0m\u001b[0;34m(\u001b[0m\u001b[0mfile_path\u001b[0m\u001b[0;34m)\u001b[0m\u001b[0;34m\u001b[0m\u001b[0;34m\u001b[0m\u001b[0m\n\u001b[0;32m---> 12\u001b[0;31m                 \u001b[0mS\u001b[0m\u001b[0;34m,\u001b[0m \u001b[0mrate\u001b[0m \u001b[0;34m=\u001b[0m \u001b[0mstempeg\u001b[0m\u001b[0;34m.\u001b[0m\u001b[0mread_stems\u001b[0m\u001b[0;34m(\u001b[0m\u001b[0mfile_path\u001b[0m\u001b[0;34m)\u001b[0m\u001b[0;34m\u001b[0m\u001b[0;34m\u001b[0m\u001b[0m\n\u001b[0m\u001b[1;32m     13\u001b[0m \u001b[0;34m\u001b[0m\u001b[0m\n",
      "\u001b[0;32m~/opt/miniconda3/lib/python3.8/site-packages/stempeg/read.py\u001b[0m in \u001b[0;36mread_stems\u001b[0;34m(filename, start, duration, stem_id, always_3d, dtype, ffmpeg_format, info, sample_rate, reader, multiprocess)\u001b[0m\n\u001b[1;32m    219\u001b[0m \u001b[0;34m\u001b[0m\u001b[0m\n\u001b[1;32m    220\u001b[0m         \u001b[0mffmpeg\u001b[0m\u001b[0;34m.\u001b[0m\u001b[0mprobe\u001b[0m\u001b[0;34m(\u001b[0m\u001b[0mfilename\u001b[0m\u001b[0;34m)\u001b[0m\u001b[0;34m\u001b[0m\u001b[0;34m\u001b[0m\u001b[0m\n\u001b[0;32m--> 221\u001b[0;31m     \u001b[0;32mexcept\u001b[0m \u001b[0mffmpeg\u001b[0m\u001b[0;34m.\u001b[0m\u001b[0m_run\u001b[0m\u001b[0;34m.\u001b[0m\u001b[0mError\u001b[0m \u001b[0;32mas\u001b[0m \u001b[0me\u001b[0m\u001b[0;34m:\u001b[0m\u001b[0;34m\u001b[0m\u001b[0;34m\u001b[0m\u001b[0m\n\u001b[0m\u001b[1;32m    222\u001b[0m         raise Warning(\n\u001b[1;32m    223\u001b[0m             \u001b[0;34m'An error occurs with ffprobe (see ffprobe output below)\\n\\n{}'\u001b[0m\u001b[0;34m\u001b[0m\u001b[0;34m\u001b[0m\u001b[0m\n",
      "\u001b[0;31mAttributeError\u001b[0m: module 'ffmpeg' has no attribute '_run'"
     ]
    }
   ],
   "source": [
    "load_data('data')"
   ]
  },
  {
   "cell_type": "code",
   "execution_count": 25,
   "metadata": {},
   "outputs": [],
   "source": [
    "import librosa\n",
    "import librosa.display"
   ]
  },
  {
   "cell_type": "code",
   "execution_count": null,
   "metadata": {},
   "outputs": [],
   "source": [
    "X = librosa.stft(librosa.to_mono(track.audio.T))\n",
    "librosa.display.specshow(librosa.amplitude_to_db(np.abs(X), ref=np.max), y_axis='log', x_axis='time')\n"
   ]
  },
  {
   "cell_type": "code",
   "execution_count": 34,
   "metadata": {},
   "outputs": [],
   "source": [
    "from torch.utils.data import Dataset\n",
    "import torchaudio\n",
    "\n",
    "class GunshotForensicDataset(Dataset):\n",
    "    '''\n",
    "    Pulled from http://cadreforensics.com/\n",
    "    '''\n",
    "\n",
    "    def __init__(self, csv_path, path):\n",
    "        self.folders = []\n",
    "        self.file_names = []\n",
    "        self.audio_files = []\n",
    "        self.labels = []\n",
    "        for folder in os.listdir(path):\n",
    "            a = folder.split('_')\n",
    "            gun_name = a[0]\n",
    "            recording_method = a[1]\n",
    "\n",
    "            for f in os.listdir(f'{path}/{folder}'):\n",
    "                if f[0] != \".\":\n",
    "                    file_path = f'{path}/{folder}/{f}'\n",
    "                    s = torchaudio.load(file_path)\n",
    "                    self.audio_files.append(s)\n",
    "                    self.labels.append(gun_name)\n",
    "    def __getitem__(self, index):\n",
    "        pass"
   ]
  },
  {
   "cell_type": "code",
   "execution_count": 36,
   "metadata": {},
   "outputs": [
    {
     "output_type": "stream",
     "name": "stdout",
     "text": [
      "data/M16_Samsung/SA_217A_S05.wav\n",
      "(tensor([[ 0.0025,  0.0028,  0.0035,  ..., -0.0009, -0.0008, -0.0007],\n",
      "        [ 0.0025,  0.0028,  0.0035,  ..., -0.0009, -0.0008, -0.0007]]), 48000)\n",
      "data/SpKing22_iPhone/IP_201A_S05.wav\n",
      "(tensor([[0.0009, 0.0013, 0.0011,  ..., 0.0010, 0.0011, 0.0017]]), 44100)\n",
      "data/SW38SP_iPhone/IP_146A_S02.wav\n",
      "(tensor([[ 2.0447e-03,  2.0142e-03,  3.4485e-03,  ...,  6.1035e-05,\n",
      "         -1.2207e-04, -1.0681e-03]]), 44100)\n",
      "data/Ruger357_Samsung/SA_127A_S03.wav\n",
      "(tensor([[-2.9602e-03, -1.7090e-03, -4.2725e-04,  ..., -2.1362e-04,\n",
      "          9.1553e-05,  5.1880e-04],\n",
      "        [-2.9602e-03, -1.7090e-03, -4.2725e-04,  ..., -2.1362e-04,\n",
      "          9.1553e-05,  5.1880e-04]]), 48000)\n",
      "data/Rem700_Samsung/SA_060B_S06.wav\n",
      "(tensor([[0.0124, 0.0121, 0.0120,  ..., 0.0004, 0.0008, 0.0008],\n",
      "        [0.0124, 0.0121, 0.0120,  ..., 0.0004, 0.0008, 0.0008]]), 48000)\n",
      "data/SW22_Samsung/SA_102B_S02.wav\n",
      "(tensor([[-0.0086, -0.0086, -0.0083,  ..., -0.0004, -0.0010, -0.0021],\n",
      "        [-0.0086, -0.0086, -0.0083,  ..., -0.0004, -0.0010, -0.0021]]), 48000)\n",
      "data/Glock9_Samsung/SA_088A_S01.wav\n",
      "(tensor([[ 0.0060,  0.0070,  0.0075,  ..., -0.0289, -0.0280, -0.0270],\n",
      "        [ 0.0060,  0.0070,  0.0075,  ..., -0.0289, -0.0280, -0.0270]]), 48000)\n",
      "data/M16_iPhone/IP_077B_S06.wav\n",
      "(tensor([[-0.0040, -0.0036, -0.0037,  ..., -0.0008, -0.0011, -0.0011]]), 44100)\n",
      "data/Glock9_iPhone/IP_108B_S07.wav\n",
      "(tensor([[ 0.0015,  0.0008,  0.0013,  ..., -0.0095, -0.0070, -0.0032]]), 44100)\n",
      "data/Kimber45_Samsung/SA_216A_S05.wav\n",
      "(tensor([[-0.0034, -0.0042, -0.0044,  ...,  0.0007,  0.0010,  0.0011],\n",
      "        [-0.0034, -0.0042, -0.0044,  ...,  0.0007,  0.0010,  0.0011]]), 48000)\n",
      "data/Ruger357_iPhone/IP_147A_S02.wav\n",
      "(tensor([[-0.0090, -0.0091, -0.0090,  ...,  0.0023,  0.0009,  0.0037]]), 44100)\n",
      "data/MP40_Samsung/SA_071A_S05.wav\n",
      "(tensor([[ 0.0032,  0.0046,  0.0039,  ..., -0.0040, -0.0042, -0.0036],\n",
      "        [ 0.0032,  0.0046,  0.0039,  ..., -0.0040, -0.0042, -0.0036]]), 48000)\n",
      "data/Colt1911_Samsung/SA_095A_S04.wav\n",
      "(tensor([[ 0.0026,  0.0031,  0.0027,  ..., -0.0008, -0.0017, -0.0024],\n",
      "        [ 0.0026,  0.0031,  0.0027,  ..., -0.0008, -0.0017, -0.0024]]), 48000)\n",
      "data/Lorcin380_iPhone/IP_105A_S01.wav\n",
      "(tensor([[-0.0013, -0.0005,  0.0002,  ..., -0.0024, -0.0039, -0.0052]]), 44100)\n",
      "data/SW38SP_Samsung/SA_126A_S03.wav\n",
      "(tensor([[-0.0007, -0.0008, -0.0012,  ..., -0.0008, -0.0002, -0.0006],\n",
      "        [-0.0007, -0.0008, -0.0012,  ..., -0.0008, -0.0002, -0.0006]]), 48000)\n",
      "data/SW22_iPhone/IP_042B_S04.wav\n",
      "(tensor([[-0.0807, -0.0795, -0.0773,  ...,  0.0385,  0.0393,  0.0395]]), 44100)\n",
      "data/Lorcin380_Samsung/SA_105A_S06.wav\n",
      "(tensor([[-0.0008, -0.0021, -0.0015,  ...,  0.0013,  0.0016,  0.0022],\n",
      "        [-0.0008, -0.0021, -0.0015,  ...,  0.0013,  0.0016,  0.0022]]), 48000)\n",
      "data/WinM14_iPhone/IP_059A_S04.wav\n",
      "(tensor([[-0.0055, -0.0075, -0.0104,  ...,  0.0264,  0.0261,  0.0262]]), 44100)\n",
      "data/BoltAction22_Samsung/SA_184D_S06.wav\n",
      "(tensor([[-0.0061, -0.0058, -0.0063,  ..., -0.0539, -0.0549, -0.0550],\n",
      "        [-0.0061, -0.0058, -0.0063,  ..., -0.0539, -0.0549, -0.0550]]), 48000)\n",
      "data/HKUSP_iPhone/IP_193D_S06.wav\n",
      "(tensor([[-0.0019, -0.0014, -0.0008,  ...,  0.0080,  0.0083,  0.0082]]), 44100)\n",
      "data/HKUSP_Samsung/SA_113A_S01.wav\n",
      "(tensor([[ 0.0147,  0.0117,  0.0083,  ..., -0.1362, -0.1363, -0.1352],\n",
      "        [ 0.0147,  0.0117,  0.0083,  ..., -0.1362, -0.1363, -0.1352]]), 48000)\n",
      "data/Kimber45_iPhone/IP_076B_S06.wav\n",
      "(tensor([[-0.0074, -0.0078, -0.0077,  ...,  0.0038,  0.0041,  0.0033]]), 44100)\n",
      "data/SpKing22_Samsung/SA_141B_S01.wav\n",
      "(tensor([[-0.0179, -0.0181, -0.0190,  ...,  0.0157,  0.0160,  0.0164],\n",
      "        [-0.0179, -0.0181, -0.0190,  ...,  0.0157,  0.0160,  0.0164]]), 48000)\n",
      "data/Rem700_iPhone/IP_060B_S01.wav\n",
      "(tensor([[-6.1035e-05,  1.2207e-04,  1.8311e-04,  ..., -7.0190e-03,\n",
      "         -6.5308e-03, -6.2256e-03]]), 44100)\n",
      "data/BoltAction22_iPhone/IP_104A_S01.wav\n",
      "(tensor([[-0.0071, -0.0073, -0.0075,  ..., -0.0070, -0.0063, -0.0060]]), 44100)\n",
      "data/WASR_Samsung/SA_058A_S02.wav\n",
      "(tensor([[-0.0264, -0.0382, -0.0485,  ...,  0.0264,  0.0239,  0.0213],\n",
      "        [-0.0264, -0.0382, -0.0485,  ...,  0.0264,  0.0239,  0.0213]]), 48000)\n",
      "data/MP40_iPhone/IP_011A_S04.wav\n",
      "(tensor([[-0.0056, -0.0049, -0.0038,  ...,  0.0090,  0.0063,  0.0103]]), 44100)\n",
      "data/WASR_iPhone/IP_198D_S05.wav\n",
      "(tensor([[ 0.0009, -0.0002,  0.0007,  ..., -0.0014,  0.0011,  0.0026]]), 44100)\n",
      "data/Colt1911_iPhone/IP_115B_S02.wav\n",
      "(tensor([[ 0.0104,  0.0102,  0.0106,  ..., -0.0016, -0.0015, -0.0015]]), 44100)\n",
      "data/Ruger22_Samsung/SA_103B_S02.wav\n",
      "(tensor([[ 0.0075,  0.0073,  0.0072,  ..., -0.0088, -0.0096, -0.0102],\n",
      "        [ 0.0075,  0.0073,  0.0072,  ..., -0.0088, -0.0096, -0.0102]]), 48000)\n",
      "data/WinM14_Samsung/SA_059A_S02.wav\n",
      "(tensor([[0.0202, 0.0198, 0.0174,  ..., 0.0049, 0.0051, 0.0046],\n",
      "        [0.0202, 0.0198, 0.0174,  ..., 0.0049, 0.0051, 0.0046]]), 48000)\n",
      "data/Ruger22_iPhone/IP_043B_S04.wav\n",
      "(tensor([[-0.1915, -0.1816, -0.1723,  ..., -0.1031, -0.1037, -0.1055]]), 44100)\n"
     ]
    }
   ],
   "source": [
    "data = GunshotForensicDataset('fwef','data')"
   ]
  },
  {
   "cell_type": "code",
   "execution_count": null,
   "metadata": {},
   "outputs": [],
   "source": []
  }
 ]
}